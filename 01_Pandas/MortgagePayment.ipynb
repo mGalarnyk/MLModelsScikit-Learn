{
  "cells": [
    {
      "cell_type": "markdown",
      "metadata": {
        "id": "p2QWHlSYYaug"
      },
      "source": [
        "<h1> Calculating a Monthly Payment (Simplified)</h1>"
      ]
    },
    {
      "cell_type": "code",
      "execution_count": null,
      "metadata": {
        "colab": {
          "base_uri": "https://localhost:8080/"
        },
        "id": "UT-uQhfKYauk",
        "outputId": "f424d8e1-5164-4f94-f4a0-a8726a37662f"
      },
      "outputs": [
        {
          "output_type": "execute_result",
          "data": {
            "text/plain": [
              "2398.2021006110276"
            ]
          },
          "metadata": {},
          "execution_count": 4
        }
      ],
      "source": [
        "P = 400000\n",
        "r = 0.06 / 12\n",
        "n = 30 * 12\n",
        "numerator = (r *((1 + r)**(n)) )\n",
        "denominator = ((1 + r)**(n)) - 1\n",
        "emi = P * (numerator / denominator)\n",
        "emi"
      ]
    },
    {
      "cell_type": "code",
      "source": [],
      "metadata": {
        "id": "pMJ6QIB1Ylof"
      },
      "execution_count": null,
      "outputs": []
    }
  ],
  "metadata": {
    "anaconda-cloud": {},
    "kernelspec": {
      "display_name": "Python 3",
      "language": "python",
      "name": "python3"
    },
    "language_info": {
      "codemirror_mode": {
        "name": "ipython",
        "version": 3
      },
      "file_extension": ".py",
      "mimetype": "text/x-python",
      "name": "python",
      "nbconvert_exporter": "python",
      "pygments_lexer": "ipython3",
      "version": "3.7.4"
    },
    "colab": {
      "provenance": []
    }
  },
  "nbformat": 4,
  "nbformat_minor": 0
}