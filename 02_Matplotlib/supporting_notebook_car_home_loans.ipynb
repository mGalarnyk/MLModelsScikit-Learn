{
  "cells": [
    {
      "cell_type": "code",
      "execution_count": null,
      "metadata": {
        "id": "VRZidgIBV9-7"
      },
      "outputs": [],
      "source": [
        "# Import Libraries\n",
        "\n",
        "%matplotlib inline\n",
        "import matplotlib.pyplot as plt\n",
        "import numpy as np\n",
        "import pandas as pd"
      ]
    },
    {
      "cell_type": "markdown",
      "metadata": {
        "id": "rlbYPUtuV9-_"
      },
      "source": [
        "## How a Monthly Payment (Equated Monthly Installment) is Calculated"
      ]
    },
    {
      "cell_type": "markdown",
      "metadata": {
        "id": "zdgDt-MnV9_B"
      },
      "source": [
        "### Calculating a Monthly Payment (Simplified)"
      ]
    },
    {
      "cell_type": "code",
      "execution_count": null,
      "metadata": {
        "id": "vlIZsCFmV9_B",
        "outputId": "65d9c66e-c916-48c3-995e-78c7112ef9d9"
      },
      "outputs": [
        {
          "data": {
            "text/plain": [
              "662.64"
            ]
          },
          "execution_count": 2,
          "metadata": {},
          "output_type": "execute_result"
        }
      ],
      "source": [
        "P = 31115 * (1.075)\n",
        "r = 0.0702 / 12\n",
        "n = 60\n",
        "numerator = (r *((1 + r)**(n)) )\n",
        "denominator = ((1 + r)**(n)) - 1\n",
        "emi = P * (numerator / denominator)\n",
        "np.round(emi,2)"
      ]
    },
    {
      "cell_type": "markdown",
      "metadata": {
        "id": "Ufd_ApfrV9_C"
      },
      "source": [
        "### Calculating a Monthly Payment (with some fees included)"
      ]
    },
    {
      "cell_type": "code",
      "execution_count": null,
      "metadata": {
        "id": "02G7zSfcV9_D",
        "outputId": "7fe38ce4-c475-4cdc-95d6-647153d0a091"
      },
      "outputs": [
        {
          "data": {
            "text/plain": [
              "1909.66"
            ]
          },
          "execution_count": 3,
          "metadata": {},
          "output_type": "execute_result"
        }
      ],
      "source": [
        "P = 400000\n",
        "r = 0.04 / 12\n",
        "n = 360\n",
        "numerator = (r *((1 + r)**(n)) )\n",
        "denominator = ((1 + r)**(n)) - 1\n",
        "emi = P * (numerator / denominator)\n",
        "np.round(emi,2)"
      ]
    },
    {
      "cell_type": "code",
      "execution_count": null,
      "metadata": {
        "id": "iiMk8PE2V9_D",
        "outputId": "6514ad2d-be29-4e86-c3b3-ceeeaca8e902"
      },
      "outputs": [
        {
          "data": {
            "text/plain": [
              "'The Monthly Payment with fees included is 24.59 higher'"
            ]
          },
          "execution_count": 4,
          "metadata": {},
          "output_type": "execute_result"
        }
      ],
      "source": [
        "'The Monthly Payment with fees included is {} higher'.format(np.round(687.23 - 662.64,2))"
      ]
    },
    {
      "cell_type": "markdown",
      "metadata": {
        "id": "mNKxEqHnV9_E"
      },
      "source": [
        "# How Interest Rates/APR Affects Monthly Payments"
      ]
    },
    {
      "cell_type": "markdown",
      "metadata": {
        "id": "-ckyPGjVV9_E"
      },
      "source": [
        "## Calculate Total Interest Paid"
      ]
    },
    {
      "cell_type": "markdown",
      "metadata": {
        "id": "w3l5nghDV9_F"
      },
      "source": [
        "Here are the steps to do this\n",
        "\n",
        "1-) Divide your interest rate by the number of payments (12) you'll make in the year (interest rates are expressed annually).\n"
      ]
    },
    {
      "cell_type": "code",
      "execution_count": null,
      "metadata": {
        "id": "sLPdmIziV9_F",
        "outputId": "ddc8b6ad-e788-4fc2-82f0-c480d69e10ed"
      },
      "outputs": [
        {
          "data": {
            "text/plain": [
              "1333.3333333333335"
            ]
          },
          "execution_count": 5,
          "metadata": {},
          "output_type": "execute_result"
        }
      ],
      "source": [
        "# Calculate one month of interest\n",
        "P = 400000\n",
        "r = 0.0400 / 12\n",
        "\n",
        "r * P"
      ]
    },
    {
      "cell_type": "markdown",
      "metadata": {
        "id": "TgR070UCV9_F"
      },
      "source": [
        "2-) Calculate new principal (after one payment)"
      ]
    },
    {
      "cell_type": "code",
      "execution_count": null,
      "metadata": {
        "id": "4D7He9cxV9_G",
        "outputId": "1c296f7c-24ef-42dc-bb76-110f028a6c5e"
      },
      "outputs": [
        {
          "data": {
            "text/plain": [
              "399515.71"
            ]
          },
          "execution_count": 6,
          "metadata": {},
          "output_type": "execute_result"
        }
      ],
      "source": [
        "400000 - (687.23 - 202.94)"
      ]
    },
    {
      "cell_type": "markdown",
      "metadata": {
        "id": "761szVFnV9_G"
      },
      "source": [
        "3-) Repeat steps 1 and 2 using the new principal until the principal reaches 0. You can see can example of this in the Python code below."
      ]
    },
    {
      "cell_type": "code",
      "execution_count": null,
      "metadata": {
        "id": "LNAvqZZ5V9_G"
      },
      "outputs": [],
      "source": [
        "import numpy as np\n",
        "import pandas as pd\n",
        "\n",
        "term = 60\n",
        "P = 34689.96\n",
        "\n",
        "def calc_interest(P,emi,interest_rate = 0.0702):\n",
        "    interest_paid = np.floor(((interest_rate/12)*P)*100)/100\n",
        "    principal_paid = np.round(emi-interest_paid, 2)\n",
        "    new_balance = np.round(P - principal_paid,2)\n",
        "    return(emi, interest_paid, principal_paid, new_balance)\n",
        "\n",
        "payment_list = []\n",
        "for n in range(1, term + 1):\n",
        "    emi,i_paid,p_paid,new_p = calc_interest(P, emi)\n",
        "    payment_list.append([n, P, emi, i_paid, p_paid, new_p])\n",
        "    P = np.round(new_p,2)"
      ]
    },
    {
      "cell_type": "code",
      "execution_count": null,
      "metadata": {
        "id": "6ESu_NenV9_G"
      },
      "outputs": [],
      "source": [
        "c_names = ['Month','Starting Balance','Repayment','Interest Paid','Principal Paid','New Balance']\n",
        "payment_table = pd.DataFrame(payment_list, columns = c_names)"
      ]
    },
    {
      "cell_type": "code",
      "execution_count": null,
      "metadata": {
        "id": "Se3VYSuEV9_G",
        "outputId": "2550c971-2cdf-4e01-8987-d0b1c8be3903"
      },
      "outputs": [
        {
          "data": {
            "text/html": [
              "<div>\n",
              "<style scoped>\n",
              "    .dataframe tbody tr th:only-of-type {\n",
              "        vertical-align: middle;\n",
              "    }\n",
              "\n",
              "    .dataframe tbody tr th {\n",
              "        vertical-align: top;\n",
              "    }\n",
              "\n",
              "    .dataframe thead th {\n",
              "        text-align: right;\n",
              "    }\n",
              "</style>\n",
              "<table border=\"1\" class=\"dataframe\">\n",
              "  <thead>\n",
              "    <tr style=\"text-align: right;\">\n",
              "      <th></th>\n",
              "      <th>Month</th>\n",
              "      <th>Starting Balance</th>\n",
              "      <th>Repayment</th>\n",
              "      <th>Interest Paid</th>\n",
              "      <th>Principal Paid</th>\n",
              "      <th>New Balance</th>\n",
              "    </tr>\n",
              "  </thead>\n",
              "  <tbody>\n",
              "    <tr>\n",
              "      <td>0</td>\n",
              "      <td>1</td>\n",
              "      <td>34689.96</td>\n",
              "      <td>1909.661182</td>\n",
              "      <td>202.93</td>\n",
              "      <td>1706.73</td>\n",
              "      <td>32983.23</td>\n",
              "    </tr>\n",
              "    <tr>\n",
              "      <td>1</td>\n",
              "      <td>2</td>\n",
              "      <td>32983.23</td>\n",
              "      <td>1909.661182</td>\n",
              "      <td>192.95</td>\n",
              "      <td>1716.71</td>\n",
              "      <td>31266.52</td>\n",
              "    </tr>\n",
              "    <tr>\n",
              "      <td>2</td>\n",
              "      <td>3</td>\n",
              "      <td>31266.52</td>\n",
              "      <td>1909.661182</td>\n",
              "      <td>182.90</td>\n",
              "      <td>1726.76</td>\n",
              "      <td>29539.76</td>\n",
              "    </tr>\n",
              "    <tr>\n",
              "      <td>3</td>\n",
              "      <td>4</td>\n",
              "      <td>29539.76</td>\n",
              "      <td>1909.661182</td>\n",
              "      <td>172.80</td>\n",
              "      <td>1736.86</td>\n",
              "      <td>27802.90</td>\n",
              "    </tr>\n",
              "    <tr>\n",
              "      <td>4</td>\n",
              "      <td>5</td>\n",
              "      <td>27802.90</td>\n",
              "      <td>1909.661182</td>\n",
              "      <td>162.64</td>\n",
              "      <td>1747.02</td>\n",
              "      <td>26055.88</td>\n",
              "    </tr>\n",
              "    <tr>\n",
              "      <td>5</td>\n",
              "      <td>6</td>\n",
              "      <td>26055.88</td>\n",
              "      <td>1909.661182</td>\n",
              "      <td>152.42</td>\n",
              "      <td>1757.24</td>\n",
              "      <td>24298.64</td>\n",
              "    </tr>\n",
              "    <tr>\n",
              "      <td>6</td>\n",
              "      <td>7</td>\n",
              "      <td>24298.64</td>\n",
              "      <td>1909.661182</td>\n",
              "      <td>142.14</td>\n",
              "      <td>1767.52</td>\n",
              "      <td>22531.12</td>\n",
              "    </tr>\n",
              "    <tr>\n",
              "      <td>7</td>\n",
              "      <td>8</td>\n",
              "      <td>22531.12</td>\n",
              "      <td>1909.661182</td>\n",
              "      <td>131.80</td>\n",
              "      <td>1777.86</td>\n",
              "      <td>20753.26</td>\n",
              "    </tr>\n",
              "    <tr>\n",
              "      <td>8</td>\n",
              "      <td>9</td>\n",
              "      <td>20753.26</td>\n",
              "      <td>1909.661182</td>\n",
              "      <td>121.40</td>\n",
              "      <td>1788.26</td>\n",
              "      <td>18965.00</td>\n",
              "    </tr>\n",
              "    <tr>\n",
              "      <td>9</td>\n",
              "      <td>10</td>\n",
              "      <td>18965.00</td>\n",
              "      <td>1909.661182</td>\n",
              "      <td>110.94</td>\n",
              "      <td>1798.72</td>\n",
              "      <td>17166.28</td>\n",
              "    </tr>\n",
              "  </tbody>\n",
              "</table>\n",
              "</div>"
            ],
            "text/plain": [
              "   Month  Starting Balance    Repayment  Interest Paid  Principal Paid  \\\n",
              "0      1          34689.96  1909.661182         202.93         1706.73   \n",
              "1      2          32983.23  1909.661182         192.95         1716.71   \n",
              "2      3          31266.52  1909.661182         182.90         1726.76   \n",
              "3      4          29539.76  1909.661182         172.80         1736.86   \n",
              "4      5          27802.90  1909.661182         162.64         1747.02   \n",
              "5      6          26055.88  1909.661182         152.42         1757.24   \n",
              "6      7          24298.64  1909.661182         142.14         1767.52   \n",
              "7      8          22531.12  1909.661182         131.80         1777.86   \n",
              "8      9          20753.26  1909.661182         121.40         1788.26   \n",
              "9     10          18965.00  1909.661182         110.94         1798.72   \n",
              "\n",
              "   New Balance  \n",
              "0     32983.23  \n",
              "1     31266.52  \n",
              "2     29539.76  \n",
              "3     27802.90  \n",
              "4     26055.88  \n",
              "5     24298.64  \n",
              "6     22531.12  \n",
              "7     20753.26  \n",
              "8     18965.00  \n",
              "9     17166.28  "
            ]
          },
          "execution_count": 9,
          "metadata": {},
          "output_type": "execute_result"
        }
      ],
      "source": [
        "payment_table.head(10)"
      ]
    },
    {
      "cell_type": "code",
      "execution_count": null,
      "metadata": {
        "id": "MZor7ySEV9_H",
        "outputId": "dcb7d992-b0b0-4ff6-b00a-c41ec80720a0"
      },
      "outputs": [
        {
          "data": {
            "text/plain": [
              "-7673.32"
            ]
          },
          "execution_count": 10,
          "metadata": {},
          "output_type": "execute_result"
        }
      ],
      "source": [
        "np.round(payment_table['Interest Paid'].sum(), 2)"
      ]
    },
    {
      "cell_type": "markdown",
      "metadata": {
        "id": "ism8G43oV9_H"
      },
      "source": [
        "## Loan and Principal Plot"
      ]
    },
    {
      "cell_type": "markdown",
      "metadata": {
        "id": "AeatagIPV9_H"
      },
      "source": [
        "https://stackoverflow.com/questions/21918718/how-to-label-certain-x-values"
      ]
    },
    {
      "cell_type": "code",
      "execution_count": null,
      "metadata": {
        "scrolled": true,
        "id": "GzYV7cGxV9_H",
        "outputId": "7f7c59a5-b981-4d18-e5e6-bef8f5d10ed8"
      },
      "outputs": [
        {
          "data": {
            "image/png": "[encoded data removed]",
            "text/plain": [
              "<Figure size 720x360 with 1 Axes>"
            ]
          },
          "metadata": {
            "needs_background": "light"
          },
          "output_type": "display_data"
        }
      ],
      "source": [
        "fig, axes = plt.subplots(nrows = 1, ncols = 1, figsize=(10, 5) )\n",
        "axes.plot(payment_table['Month'], payment_table['Principal Paid'], c = 'b', label = 'Principal');\n",
        "axes.plot(payment_table['Month'], payment_table['Interest Paid'], c = 'k', label = 'Interest');\n",
        "\n",
        "axes.set_xlim((1, 60));\n",
        "axes.set_xticks([1, 10, 20, 30, 40, 50, 60])\n",
        "axes.set_ylim((0, 700));\n",
        "axes.set_ylabel('Dollars', fontsize = 22);\n",
        "axes.set_xlabel('Month', fontsize = 22);\n",
        "\n",
        "plt.xticks(fontsize = 20)\n",
        "plt.yticks(fontsize = 20)\n",
        "axes.set_title('Interest and Principal Paid Each Month', fontsize = 24)\n",
        "\n",
        "plt.legend(bbox_to_anchor=(1.02,0), loc=\"lower left\", borderaxespad=0, fontsize = 20)\n",
        "plt.tight_layout()\n",
        "plt.grid(axis = 'both')\n",
        "plt.savefig('Interest_Principal.png', dpi = 1000)"
      ]
    },
    {
      "cell_type": "markdown",
      "metadata": {
        "collapsed": true,
        "id": "xkhDQgVyV9_I"
      },
      "source": [
        "## Refinancing Cost Comparison"
      ]
    },
    {
      "cell_type": "markdown",
      "metadata": {
        "id": "q6Hs-lU2V9_I"
      },
      "source": [
        "3.59% vs 7.02% (show the cost of refinancing a car, assuming no prepayment penalty)"
      ]
    },
    {
      "cell_type": "code",
      "execution_count": null,
      "metadata": {
        "id": "-EoymznKV9_I"
      },
      "outputs": [],
      "source": [
        "P = 34689.96\n",
        "term = 60\n",
        "\n",
        "def generate_loan_table(P, term, interest_rate=0.0702):\n",
        "\n",
        "    def calc_emi(P, n, interest_rate):\n",
        "        r = interest_rate / 12\n",
        "        numerator = (r *((1 + r)**(n)) )\n",
        "        denominator = ((1 + r)**(n)) - 1\n",
        "        emi = P * (numerator / denominator)\n",
        "        emi = np.round(emi, 2)\n",
        "        return(emi)\n",
        "\n",
        "    def calc_interest(P, emi, interest_rate):\n",
        "        i_paid = np.floor(((interest_rate/12)*P)*100)/100\n",
        "        p_paid = np.round(emi - i_paid, 2)\n",
        "        new_p = np.round(P - p_paid,2)\n",
        "        return(emi, i_paid, p_paid, new_p)\n",
        "\n",
        "    emi = calc_emi(P, term, interest_rate)\n",
        "    payment_list = []\n",
        "\n",
        "    for n in range(1, term + 1):\n",
        "        emi,i_paid,p_paid, new_p = calc_interest(P, emi, interest_rate)\n",
        "        payment_list.append([n, P,emi, i_paid, p_paid, new_p])\n",
        "        P = np.round(new_p,2)\n",
        "\n",
        "    payment_table = pd.DataFrame(payment_list, columns = ['Month',\n",
        "                                                       'Starting Balance',\n",
        "                                                       'Repayment',\n",
        "                                                       'Interest Paid',\n",
        "                                                       'Principal Paid',\n",
        "                                                       'New Balance'])\n",
        "    return(payment_table, np.round(payment_table['Interest Paid'].sum(), 2), emi)"
      ]
    },
    {
      "cell_type": "code",
      "execution_count": null,
      "metadata": {
        "id": "G6lZK24FV9_I"
      },
      "outputs": [],
      "source": [
        "o_table, o_paid, o_emi = generate_loan_table(P,term,interest_rate=0.0702)\n",
        "r_table, r_paid, r_emi = generate_loan_table(P,term,interest_rate=0.0359)"
      ]
    },
    {
      "cell_type": "markdown",
      "metadata": {
        "id": "d0oK3hXKV9_I"
      },
      "source": [
        "## Total Interest Through Different Loan Terms"
      ]
    },
    {
      "cell_type": "code",
      "execution_count": null,
      "metadata": {
        "id": "Z0vTqpSUV9_J"
      },
      "outputs": [],
      "source": [
        "P = 400000"
      ]
    },
    {
      "cell_type": "code",
      "execution_count": null,
      "metadata": {
        "id": "kzLxpBUbV9_J"
      },
      "outputs": [],
      "source": [
        "mortgage30_03, original_paid, original_emi = generate_loan_table(P, term = 360, interest_rate = 0.0300)\n",
        "mortgage15_03, seventyTwo_paid, seventyTwo_emi = generate_loan_table(P, term = 180, interest_rate = 0.0300)"
      ]
    },
    {
      "cell_type": "code",
      "execution_count": null,
      "metadata": {
        "id": "mTqEWK7ZV9_J"
      },
      "outputs": [],
      "source": [
        "mortgage30_05, original_paid, original_emi = generate_loan_table(P, term = 360, interest_rate = 0.0500)\n",
        "mortgage15_05, seventyTwo_paid, seventyTwo_emi = generate_loan_table(P, term = 180, interest_rate = 0.0500)"
      ]
    },
    {
      "cell_type": "code",
      "execution_count": null,
      "metadata": {
        "id": "qoYKVUOdV9_J"
      },
      "outputs": [],
      "source": [
        "mortgage30_03.loc[:, 'Mortgage Name'] = '30 Year'\n",
        "mortgage30_03.loc[:, 'Interest Rate'] = 0.03\n",
        "\n",
        "mortgage15_03.loc[:, 'Mortgage Name'] = '15 Year'\n",
        "mortgage15_03.loc[:, 'Interest Rate'] = 0.03\n",
        "\n",
        "mortgage30_05.loc[:, 'Mortgage Name'] = '30 Year'\n",
        "mortgage30_05.loc[:, 'Interest Rate'] = 0.05\n",
        "\n",
        "mortgage15_05.loc[:, 'Mortgage Name'] = '15 Year'\n",
        "mortgage15_05.loc[:, 'Interest Rate'] = 0.05"
      ]
    },
    {
      "cell_type": "code",
      "execution_count": null,
      "metadata": {
        "id": "H27QBvrCV9_J"
      },
      "outputs": [],
      "source": [
        "#finalDF = pd.concat([mortgage30_03, mortgage30_05, mortgage15_03,mortgage15_05])"
      ]
    },
    {
      "cell_type": "code",
      "execution_count": null,
      "metadata": {
        "id": "rb2GGKI4V9_J"
      },
      "outputs": [],
      "source": [
        "#finalDF.to_csv('mortgages.csv', index = False)"
      ]
    },
    {
      "cell_type": "code",
      "execution_count": null,
      "metadata": {
        "id": "gnsUHWlSV9_K"
      },
      "outputs": [],
      "source": [
        "#finalDF"
      ]
    },
    {
      "cell_type": "code",
      "execution_count": null,
      "metadata": {
        "id": "VnkJnj5HV9_K",
        "outputId": "448798cb-9c75-4464-92d8-9751caf1b8e9"
      },
      "outputs": [
        {
          "data": {
            "text/plain": [
              "(2147.29, 3163.17)"
            ]
          },
          "execution_count": 21,
          "metadata": {},
          "output_type": "execute_result"
        }
      ],
      "source": [
        "original_emi, seventyTwo_emi"
      ]
    },
    {
      "cell_type": "code",
      "execution_count": null,
      "metadata": {
        "id": "nLRGzHvRV9_K",
        "outputId": "ebe78e73-11d9-4931-d467-12a3b3c76cec"
      },
      "outputs": [
        {
          "data": {
            "image/png": "[encoded data removed]",
            "text/plain": [
              "<Figure size 720x360 with 1 Axes>"
            ]
          },
          "metadata": {
            "needs_background": "light"
          },
          "output_type": "display_data"
        }
      ],
      "source": [
        "fig, axes = plt.subplots(nrows = 1, ncols = 1, figsize=(10, 5) )\n",
        "axes.plot(mortgage30_05['Month'], mortgage30_05['Interest Paid'].cumsum(), c = 'k', linestyle = '-', markersize = 10, label = '30 Year 5% APR');\n",
        "axes.plot(mortgage15_05['Month'], mortgage15_05['Interest Paid'].cumsum(), c = 'k', linestyle = '--', markersize = 10, label = '15 Year 5% APR');\n",
        "axes.plot(mortgage30_03['Month'], mortgage30_03['Interest Paid'].cumsum(), c = 'b', linestyle = '-', markersize = 10, label = '30 Year 3% APR ');\n",
        "axes.plot(mortgage15_03['Month'], mortgage15_03['Interest Paid'].cumsum(), c = 'b', linestyle = '--', markersize = 10, label = '15 Year 3% APR ');\n",
        "\n",
        "\n",
        "#axes.set_xlim((1, 72));\n",
        "#axes.set_xticks([1, 12, 24, 36, 48, 60, 72])\n",
        "#axes.set_ylim((0, 9000));\n",
        "#axes.set_ylabel('Dollars', fontsize = 24);\n",
        "#axes.set_xlabel('Month', fontsize = 24);\n",
        "\n",
        "#plt.xticks(fontsize = 22)\n",
        "#plt.yticks(fontsize = 22)\n",
        "#axes.set_title('Total Interest Paid', fontsize = 26)\n",
        "\n",
        "#plt.legend(loc=\"lower right\", fontsize = 10)\n",
        "#plt.tight_layout()\n",
        "#plt.grid(axis = 'both')\n",
        "#plt.savefig('Total_Interest_Paid_DifferentMortgages.png', dpi = 1000)"
      ]
    },
    {
      "cell_type": "code",
      "execution_count": null,
      "metadata": {
        "id": "Eq-1e0JEV9_K",
        "outputId": "81ddae1d-6d74-4e95-c846-6468db7fba2e"
      },
      "outputs": [
        {
          "data": {
            "image/png": "[encoded data removed]",
            "text/plain": [
              "<Figure size 720x360 with 2 Axes>"
            ]
          },
          "metadata": {
            "needs_background": "light"
          },
          "output_type": "display_data"
        }
      ],
      "source": [
        "fig, axes = plt.subplots(nrows = 1, ncols = 2, figsize=(10, 5) )\n",
        "axes[0].plot(mortgage30_03['Month'], mortgage30_03['Principal Paid'], c = 'b', label = 'Principal');\n",
        "axes[0].plot(mortgage30_03['Month'], mortgage30_03['Interest Paid'], c = 'k', label = 'Interest');\n",
        "\n",
        "axes[1].plot(mortgage30_05['Month'], mortgage30_05['Principal Paid'], c = 'b', label = 'Principal');\n",
        "axes[1].plot(mortgage30_05['Month'], mortgage30_05['Interest Paid'], c = 'k', label = 'Interest');\n",
        "\n",
        "\n",
        "axes[0].set_xlim((1, 360));\n",
        "axes[1].set_xlim((1, 360));\n",
        "axes[0].set_ylim((0, 2500));\n",
        "axes[1].set_ylim((0, 2500));\n",
        "\n",
        "#axes.set_xticks([1, 10, 20, 30, 40, 50, 60])\n",
        "#axes.set_ylim((0, 700));\n",
        "axes[0].set_ylabel('Dollars', fontsize = 22);\n",
        "axes[0].set_xlabel('Month', fontsize = 22);\n",
        "axes[1].set_ylabel('Dollars', fontsize = 22);\n",
        "axes[1].set_xlabel('Month', fontsize = 22,);\n",
        "\n",
        "\n",
        "#plt.xticks(fontsize = 22)\n",
        "#plt.yticks(fontsize = 22)\n",
        "fig.subplots_adjust(top=0.8, left = .1, right = .9)\n",
        "fig.suptitle('Interest and Principal Paid Each Month',y = .9, fontsize = 24)\n",
        "\n",
        "#axes[0].legend(bbox_to_anchor=(1.02,0), loc=\"lower left\", borderaxespad=0, fontsize = 20)\n",
        "#fig.tight_layout()\n",
        "axes[0].grid(axis = 'both')\n",
        "axes[1].grid(axis = 'both')\n",
        "#plt.savefig('Interest_Principal.png', dpi = 1000)"
      ]
    },
    {
      "cell_type": "code",
      "execution_count": null,
      "metadata": {
        "collapsed": true,
        "id": "A9OvLQIGV9_L"
      },
      "outputs": [],
      "source": []
    },
    {
      "cell_type": "code",
      "execution_count": null,
      "metadata": {
        "id": "8dLCfjuqV9_L",
        "outputId": "1a7e5d8a-5765-49c1-9934-0825f52f51d3"
      },
      "outputs": [
        {
          "data": {
            "image/png": "[encoded data removed]",
            "text/plain": [
              "<Figure size 720x360 with 2 Axes>"
            ]
          },
          "metadata": {
            "needs_background": "light"
          },
          "output_type": "display_data"
        }
      ],
      "source": [
        "fig, axes = plt.subplots(nrows = 1, ncols = 2, figsize=(10, 5) )\n",
        "axes[0].plot(mortgage30_03['Month'], mortgage30_03['Principal Paid'], c = 'b', label = 'Principal');\n",
        "axes[0].plot(mortgage30_03['Month'], mortgage30_03['Interest Paid'], c = 'k', label = 'Interest');\n",
        "\n",
        "axes[1].plot(mortgage30_05['Month'], mortgage30_05['Principal Paid'], c = 'b', label = 'Principal');\n",
        "axes[1].plot(mortgage30_05['Month'], mortgage30_05['Interest Paid'], c = 'k', label = 'Interest');\n",
        "\n",
        "\n",
        "axes[0].set_xlim((1, 360));\n",
        "axes[1].set_xlim((1, 360));\n",
        "axes[0].set_ylim((0, 2500));\n",
        "axes[1].set_ylim((0, 2500));\n",
        "\n",
        "#axes.set_xticks([1, 10, 20, 30, 40, 50, 60])\n",
        "#axes.set_ylim((0, 700));\n",
        "axes[0].set_ylabel('Dollars', fontsize = 22);\n",
        "axes[0].set_xlabel('Month', fontsize = 22);\n",
        "axes[1].set_ylabel('Dollars', fontsize = 22);\n",
        "axes[1].set_xlabel('Month', fontsize = 22,);\n",
        "\n",
        "\n",
        "#plt.xticks(fontsize = 22)\n",
        "#plt.yticks(fontsize = 22)\n",
        "fig.subplots_adjust(top=0.8, left = .1, right = .9)\n",
        "fig.suptitle('Interest and Principal Paid Each Month',y = .9, fontsize = 24)\n",
        "\n",
        "#axes[0].legend(bbox_to_anchor=(1.02,0), loc=\"lower left\", borderaxespad=0, fontsize = 20)\n",
        "#fig.tight_layout()\n",
        "axes[0].grid(axis = 'both')\n",
        "axes[1].grid(axis = 'both')\n",
        "#plt.savefig('Interest_Principal.png', dpi = 1000)"
      ]
    },
    {
      "cell_type": "code",
      "execution_count": null,
      "metadata": {
        "id": "Y-RVhkhjV9_L"
      },
      "outputs": [],
      "source": []
    }
  ],
  "metadata": {
    "anaconda-cloud": {},
    "kernelspec": {
      "display_name": "Python 3",
      "language": "python",
      "name": "python3"
    },
    "language_info": {
      "codemirror_mode": {
        "name": "ipython",
        "version": 3
      },
      "file_extension": ".py",
      "mimetype": "text/x-python",
      "name": "python",
      "nbconvert_exporter": "python",
      "pygments_lexer": "ipython3",
      "version": "3.7.4"
    },
    "colab": {
      "provenance": []
    }
  },
  "nbformat": 4,
  "nbformat_minor": 0
}