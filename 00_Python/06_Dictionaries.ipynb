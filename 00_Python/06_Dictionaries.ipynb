{
 "cells": [
  {
   "cell_type": "markdown",
   "metadata": {
    "collapsed": true
   },
   "source": [
    "<h1> Dictionaries </h1>\n",
    "<b>Objectives</b>\n",
    "\n",
    "* What are dictionaries \n",
    "* How to update elements in a dictionary\n",
    "* Dictionary methods\n",
    "\n",
    "\n",
    "\n",
    "# Dictionaries\n",
    "Dictionaries are data structures that map unique keys to values. The dictionary below, <b>webstersDict</b>, uses strings as keys in the dictionary, but dictionary keys can be any immutable data type (numbers, strings, tuples etc). Dictionary values can be just about anything (int, lists, functions, strings, etc)."
   ]
  },
  {
   "cell_type": "markdown",
   "metadata": {},
   "source": [
    "![](images/dictionariesRedBlue.png)"
   ]
  },
  {
   "cell_type": "code",
   "execution_count": 1,
   "metadata": {},
   "outputs": [],
   "source": [
    "# Define a dictionary \n",
    "# Dictionaries are written within curly brackets {}. \n",
    "webstersDict = {'person': 'a human being',\n",
    "                'marathon': 'a running race that is about 26 miles',\n",
    "                'resist': 'to remain strong against the force',\n",
    "                'run': 'to move with haste; act quickly'}"
   ]
  },
  {
   "cell_type": "markdown",
   "metadata": {},
   "source": [
    "An important point to emphasize is that if you try to make a key a mutable datatype (like a list), you will get an error."
   ]
  },
  {
   "cell_type": "code",
   "execution_count": 2,
   "metadata": {},
   "outputs": [
    {
     "ename": "TypeError",
     "evalue": "unhashable type: 'list'",
     "output_type": "error",
     "traceback": [
      "\u001b[0;31m---------------------------------------------------------------------------\u001b[0m",
      "\u001b[0;31mTypeError\u001b[0m                                 Traceback (most recent call last)",
      "\u001b[0;32m<ipython-input-2-4062ec7dbb98>\u001b[0m in \u001b[0;36m<module>\u001b[0;34m\u001b[0m\n\u001b[1;32m      3\u001b[0m                 \u001b[0;36m1\u001b[0m\u001b[0;34m:\u001b[0m \u001b[0;34m'ints can be keys'\u001b[0m\u001b[0;34m,\u001b[0m\u001b[0;34m\u001b[0m\u001b[0;34m\u001b[0m\u001b[0m\n\u001b[1;32m      4\u001b[0m                 \u001b[0;34m'run'\u001b[0m\u001b[0;34m:\u001b[0m \u001b[0;34m'strings can be keys'\u001b[0m\u001b[0;34m,\u001b[0m\u001b[0;34m\u001b[0m\u001b[0;34m\u001b[0m\u001b[0m\n\u001b[0;32m----> 5\u001b[0;31m                 ['sock', 1, 2.0]: 'lists can NOT be keys'}\n\u001b[0m",
      "\u001b[0;31mTypeError\u001b[0m: unhashable type: 'list'"
     ]
    }
   ],
   "source": [
    "# Failure to define a dictionary\n",
    "webstersDict = {(1, 2.0): 'tuples can be keys',\n",
    "                1: 'ints can be keys',\n",
    "                'run': 'strings can be keys', \n",
    "                ['sock', 1, 2.0]: 'lists can NOT be keys'}"
   ]
  },
  {
   "cell_type": "markdown",
   "metadata": {},
   "source": [
    "## Access Values in a Dictionary\n",
    "To access a dictionary value, use square brackets [].\n",
    "For example, the code below uses the key 'marathon' to access the value 'a running race that is about 26 miles'"
   ]
  },
  {
   "cell_type": "code",
   "execution_count": 3,
   "metadata": {},
   "outputs": [
    {
     "data": {
      "text/plain": [
       "'a running race that is about 26 miles'"
      ]
     },
     "execution_count": 3,
     "metadata": {},
     "output_type": "execute_result"
    }
   ],
   "source": [
    "# Get value of the 'marathon' key\n",
    "webstersDict['marathon']"
   ]
  },
  {
   "cell_type": "markdown",
   "metadata": {},
   "source": [
    "Keep in mind that you will get a KeyError if you try to access a value for a key that does not exist."
   ]
  },
  {
   "cell_type": "code",
   "execution_count": 4,
   "metadata": {},
   "outputs": [
    {
     "ename": "KeyError",
     "evalue": "'socks'",
     "output_type": "error",
     "traceback": [
      "\u001b[0;31m---------------------------------------------------------------------------\u001b[0m",
      "\u001b[0;31mKeyError\u001b[0m                                  Traceback (most recent call last)",
      "\u001b[0;32m<ipython-input-4-4f216873be8d>\u001b[0m in \u001b[0;36m<module>\u001b[0;34m\u001b[0m\n\u001b[1;32m      1\u001b[0m \u001b[0;31m# Try to get value for key that does not exist\u001b[0m\u001b[0;34m\u001b[0m\u001b[0;34m\u001b[0m\u001b[0;34m\u001b[0m\u001b[0m\n\u001b[0;32m----> 2\u001b[0;31m \u001b[0mwebstersDict\u001b[0m\u001b[0;34m[\u001b[0m\u001b[0;34m'socks'\u001b[0m\u001b[0;34m]\u001b[0m\u001b[0;34m\u001b[0m\u001b[0;34m\u001b[0m\u001b[0m\n\u001b[0m",
      "\u001b[0;31mKeyError\u001b[0m: 'socks'"
     ]
    }
   ],
   "source": [
    "# Try to get value for key that does not exist\n",
    "webstersDict['socks']"
   ]
  },
  {
   "cell_type": "markdown",
   "metadata": {},
   "source": [
    "In the Dictionary Methods section, you will see the utility of using the dictionary method get to avoid KeyErrors."
   ]
  },
  {
   "cell_type": "markdown",
   "metadata": {},
   "source": [
    "## Add or Update Key\n",
    "You can add a new key-value pair to an existing dictionary"
   ]
  },
  {
   "cell_type": "code",
   "execution_count": 5,
   "metadata": {},
   "outputs": [
    {
     "data": {
      "text/plain": [
       "{'person': 'a human being',\n",
       " 'marathon': 'a running race that is about 26 miles',\n",
       " 'resist': 'to remain strong against the force',\n",
       " 'run': 'to move with haste; act quickly',\n",
       " 'shoe': 'an external covering for the human foot'}"
      ]
     },
     "execution_count": 5,
     "metadata": {},
     "output_type": "execute_result"
    }
   ],
   "source": [
    "# add one new key value pair to a dictionary\n",
    "webstersDict['shoe'] = 'an external covering for the human foot'\n",
    "webstersDict"
   ]
  },
  {
   "cell_type": "markdown",
   "metadata": {},
   "source": [
    "You can also update a key-value pair."
   ]
  },
  {
   "cell_type": "code",
   "execution_count": 6,
   "metadata": {},
   "outputs": [
    {
     "data": {
      "text/plain": [
       "{'person': 'a human being',\n",
       " 'marathon': '26 mile race',\n",
       " 'resist': 'to remain strong against the force',\n",
       " 'run': 'to move with haste; act quickly',\n",
       " 'shoe': 'an external covering for the human foot'}"
      ]
     },
     "execution_count": 6,
     "metadata": {},
     "output_type": "execute_result"
    }
   ],
   "source": [
    "# update the value for the 'marathon' key\n",
    "webstersDict['marathon'] = '26 mile race'\n",
    "webstersDict"
   ]
  },
  {
   "cell_type": "markdown",
   "metadata": {},
   "source": [
    "## Delete Key from Dictionary\n",
    "It is possible to remove a key and its corresponding value from a dictionary using <b>del</b>."
   ]
  },
  {
   "cell_type": "code",
   "execution_count": 7,
   "metadata": {},
   "outputs": [
    {
     "data": {
      "text/plain": [
       "{'person': 'a human being',\n",
       " 'marathon': '26 mile race',\n",
       " 'run': 'to move with haste; act quickly',\n",
       " 'shoe': 'an external covering for the human foot'}"
      ]
     },
     "execution_count": 7,
     "metadata": {},
     "output_type": "execute_result"
    }
   ],
   "source": [
    "# Remove the key 'resist' from the dictionary\n",
    "del webstersDict['resist']\n",
    "webstersDict"
   ]
  },
  {
   "cell_type": "markdown",
   "metadata": {},
   "source": [
    "## Dictionary Methods\n",
    "Python dictionaries have different methods that help you modify a dictionary. This section of the tutorial just goes over various python dictionary methods."
   ]
  },
  {
   "cell_type": "markdown",
   "metadata": {},
   "source": [
    "### update method\n",
    "The update method is very useful for updating multiple key values pairs at a time. It takes a dictionary as an argument."
   ]
  },
  {
   "cell_type": "code",
   "execution_count": 8,
   "metadata": {},
   "outputs": [
    {
     "data": {
      "text/plain": [
       "{'person': 'a human being',\n",
       " 'marathon': '26 mile race',\n",
       " 'run': 'to move with haste; act quickly',\n",
       " 'shoe': 'an external covering for the human foot'}"
      ]
     },
     "execution_count": 8,
     "metadata": {},
     "output_type": "execute_result"
    }
   ],
   "source": [
    "webstersDict"
   ]
  },
  {
   "cell_type": "code",
   "execution_count": 9,
   "metadata": {},
   "outputs": [],
   "source": [
    "# Using update method to add two key value pairs at once\n",
    "webstersDict.update({'ran': 'past tense of run',\n",
    "                     'shoes': 'plural of shoe'})"
   ]
  },
  {
   "cell_type": "code",
   "execution_count": 10,
   "metadata": {},
   "outputs": [
    {
     "data": {
      "text/plain": [
       "{'person': 'a human being',\n",
       " 'marathon': '26 mile race',\n",
       " 'run': 'to move with haste; act quickly',\n",
       " 'shoe': 'an external covering for the human foot',\n",
       " 'ran': 'past tense of run',\n",
       " 'shoes': 'plural of shoe'}"
      ]
     },
     "execution_count": 10,
     "metadata": {},
     "output_type": "execute_result"
    }
   ],
   "source": [
    "webstersDict"
   ]
  },
  {
   "cell_type": "markdown",
   "metadata": {},
   "source": [
    "If you are wondering why the keys added to the dictionary are not in the order added in, it is because dictionaries are unordered."
   ]
  },
  {
   "cell_type": "markdown",
   "metadata": {},
   "source": [
    "### get method\n",
    "The get method returns a value for a given key. If a key doesn’t exist, the dictionary will by default return None."
   ]
  },
  {
   "cell_type": "code",
   "execution_count": 11,
   "metadata": {},
   "outputs": [],
   "source": [
    "# Define a dictionary\n",
    "storyCount = {'is': 100,\n",
    "              'the': 90,\n",
    "              'Michael': 12,\n",
    "              'runs': 5}"
   ]
  },
  {
   "cell_type": "code",
   "execution_count": 12,
   "metadata": {},
   "outputs": [
    {
     "data": {
      "text/plain": [
       "12"
      ]
     },
     "execution_count": 12,
     "metadata": {},
     "output_type": "execute_result"
    }
   ],
   "source": [
    "# Since the key 'Michael' exists, it will return the value 12\n",
    "storyCount.get('Michael')"
   ]
  },
  {
   "cell_type": "markdown",
   "metadata": {},
   "source": [
    "The method is very useful to look up keys you don’t know are in the dictionary to avoid KeyErrors."
   ]
  },
  {
   "cell_type": "code",
   "execution_count": 13,
   "metadata": {},
   "outputs": [
    {
     "name": "stdout",
     "output_type": "stream",
     "text": [
      "0\n"
     ]
    }
   ],
   "source": [
    "print(storyCount.get('chicken', 0) )"
   ]
  },
  {
   "cell_type": "markdown",
   "metadata": {},
   "source": [
    "You can also specify a default value to return if the key doesn’t exist."
   ]
  },
  {
   "cell_type": "code",
   "execution_count": 14,
   "metadata": {},
   "outputs": [
    {
     "name": "stdout",
     "output_type": "stream",
     "text": [
      "None\n"
     ]
    }
   ],
   "source": [
    "# Make default value for key that doesn't exist 0.\n",
    "print(storyCount.get('chicken'))"
   ]
  },
  {
   "cell_type": "markdown",
   "metadata": {},
   "source": [
    "You can see the usefulness of this method if you try a [Python Word Count](https://codeburst.io/python-basics-11-word-count-filter-out-punctuation-dictionary-manipulation-and-sorting-lists-3f6c55420855)."
   ]
  },
  {
   "cell_type": "markdown",
   "metadata": {},
   "source": [
    "### pop method\n",
    "The pop method removes a key and returns the value."
   ]
  },
  {
   "cell_type": "code",
   "execution_count": 16,
   "metadata": {},
   "outputs": [
    {
     "data": {
      "text/plain": [
       "{'is': 100, 'the': 90, 'Michael': 12, 'runs': 5}"
      ]
     },
     "execution_count": 16,
     "metadata": {},
     "output_type": "execute_result"
    }
   ],
   "source": [
    "storyCount"
   ]
  },
  {
   "cell_type": "code",
   "execution_count": 17,
   "metadata": {},
   "outputs": [
    {
     "data": {
      "text/plain": [
       "90"
      ]
     },
     "execution_count": 17,
     "metadata": {},
     "output_type": "execute_result"
    }
   ],
   "source": [
    "storyCount.pop('the')"
   ]
  },
  {
   "cell_type": "code",
   "execution_count": 18,
   "metadata": {},
   "outputs": [
    {
     "data": {
      "text/plain": [
       "{'is': 100, 'Michael': 12, 'runs': 5}"
      ]
     },
     "execution_count": 18,
     "metadata": {},
     "output_type": "execute_result"
    }
   ],
   "source": [
    "storyCount"
   ]
  },
  {
   "cell_type": "markdown",
   "metadata": {},
   "source": [
    "### keys method\n",
    "The keys method returns the keys of the dictionary as a dictionary view object. It supports operations like membership testing and iteration, but its contents are not independent of the original dictionary. It is only a view. <b>For the purposes of this class, you can typecast your dictionary view like object, to a list using the inbuilt list function. </b>"
   ]
  },
  {
   "cell_type": "code",
   "execution_count": 19,
   "metadata": {},
   "outputs": [
    {
     "data": {
      "text/plain": [
       "dict_keys"
      ]
     },
     "execution_count": 19,
     "metadata": {},
     "output_type": "execute_result"
    }
   ],
   "source": [
    "type(storyCount.keys())"
   ]
  },
  {
   "cell_type": "code",
   "execution_count": 20,
   "metadata": {},
   "outputs": [],
   "source": [
    "key_list = list(storyCount.keys() )"
   ]
  },
  {
   "cell_type": "code",
   "execution_count": 21,
   "metadata": {},
   "outputs": [
    {
     "data": {
      "text/plain": [
       "['is', 'Michael', 'runs']"
      ]
     },
     "execution_count": 21,
     "metadata": {},
     "output_type": "execute_result"
    }
   ],
   "source": [
    "key_list"
   ]
  },
  {
   "cell_type": "markdown",
   "metadata": {},
   "source": [
    "### values method\n",
    "The values method returns the values in the dictionary."
   ]
  },
  {
   "cell_type": "code",
   "execution_count": 22,
   "metadata": {},
   "outputs": [
    {
     "data": {
      "text/plain": [
       "dict_values([100, 12, 5])"
      ]
     },
     "execution_count": 22,
     "metadata": {},
     "output_type": "execute_result"
    }
   ],
   "source": [
    "storyCount.values()"
   ]
  },
  {
   "cell_type": "markdown",
   "metadata": {},
   "source": [
    "### items method\n",
    "The items method returns a dictionary view object. <b>For the purposes of this class, you can typecast your dictionary view like object to a list using the inbuilt list function. </b>. This is make it a list of tuples which is of the form (key, value)."
   ]
  },
  {
   "cell_type": "code",
   "execution_count": 23,
   "metadata": {},
   "outputs": [
    {
     "data": {
      "text/plain": [
       "[('person', 'a human being'),\n",
       " ('marathon', '26 mile race'),\n",
       " ('run', 'to move with haste; act quickly'),\n",
       " ('shoe', 'an external covering for the human foot'),\n",
       " ('ran', 'past tense of run'),\n",
       " ('shoes', 'plural of shoe')]"
      ]
     },
     "execution_count": 23,
     "metadata": {},
     "output_type": "execute_result"
    }
   ],
   "source": [
    "list(webstersDict.items() )"
   ]
  },
  {
   "cell_type": "markdown",
   "metadata": {},
   "source": [
    "## Iterate through a Dictionary\n",
    "You can iterate through the keys of a dictionary by using a for loop."
   ]
  },
  {
   "cell_type": "code",
   "execution_count": 24,
   "metadata": {},
   "outputs": [
    {
     "name": "stdout",
     "output_type": "stream",
     "text": [
      "is\n",
      "Michael\n",
      "runs\n"
     ]
    }
   ],
   "source": [
    "for key in storyCount:\n",
    "    print(key)"
   ]
  },
  {
   "cell_type": "markdown",
   "metadata": {},
   "source": [
    "You can also iterate through the keys of a dictionary by using the keys method."
   ]
  },
  {
   "cell_type": "code",
   "execution_count": 23,
   "metadata": {},
   "outputs": [
    {
     "name": "stdout",
     "output_type": "stream",
     "text": [
      "Michael\n",
      "runs\n",
      "is\n"
     ]
    }
   ],
   "source": [
    "for key in storyCount.keys():\n",
    "    print(key)"
   ]
  },
  {
   "cell_type": "markdown",
   "metadata": {},
   "source": [
    "The for loop below uses the items method to access one (key, value) pair on each iteration of the loop."
   ]
  },
  {
   "cell_type": "code",
   "execution_count": 26,
   "metadata": {},
   "outputs": [
    {
     "name": "stdout",
     "output_type": "stream",
     "text": [
      "person a human being\n",
      "marathon 26 mile race\n",
      "run to move with haste; act quickly\n",
      "shoe an external covering for the human foot\n",
      "ran past tense of run\n",
      "shoes plural of shoe\n"
     ]
    }
   ],
   "source": [
    "for key, value in webstersDict.items():\n",
    "    print(key, value)"
   ]
  },
  {
   "cell_type": "markdown",
   "metadata": {},
   "source": [
    "If you have difficulty understanding this section, I recommend watching part of this [youtube video](https://www.youtube.com/watch?v=LlIqrWJaBcQ&feature=youtu.be&t=5m35s). "
   ]
  }
 ],
 "metadata": {
  "anaconda-cloud": {},
  "celltoolbar": "Slideshow",
  "kernelspec": {
   "display_name": "Python 3 (ipykernel)",
   "language": "python",
   "name": "python3"
  },
  "language_info": {
   "codemirror_mode": {
    "name": "ipython",
    "version": 3
   },
   "file_extension": ".py",
   "mimetype": "text/x-python",
   "name": "python",
   "nbconvert_exporter": "python",
   "pygments_lexer": "ipython3",
   "version": "3.9.7"
  }
 },
 "nbformat": 4,
 "nbformat_minor": 1
}
