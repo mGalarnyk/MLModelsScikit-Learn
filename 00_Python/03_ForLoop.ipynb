{
 "cells": [
  {
   "cell_type": "markdown",
   "metadata": {},
   "source": [
    "<h1>For Loops</h1>\n",
    "<h2>Objectives</h2>\n",
    "<ul>\n",
    "    <li>What are for loops</li>\n",
    "    <li>How to iterate through lists, tuples, dictionaries, etc</li>\n",
    "    <li>Enumerate</li></ul>\n",
    "\n",
    "<h2>What are for loops</h2>\n",
    "A for loop is used for iterating over a sequence (list, tuple, dictionary, string, etc). In the first iteration of the loop below, it will be equal to the next item in the list. So the first time through the loop, x will be equal to M. The next time through, x will be equal to i and so on till it reaches the end of our string. "
   ]
  },
  {
   "cell_type": "code",
   "execution_count": 11,
   "metadata": {},
   "outputs": [
    {
     "name": "stdout",
     "output_type": "stream",
     "text": [
      "M\n",
      "i\n",
      "c\n",
      "h\n",
      "a\n",
      "e\n",
      "l\n"
     ]
    }
   ],
   "source": [
    "myName = \"Michael\"\n",
    "for x in myName:\n",
    "    print(x)"
   ]
  },
  {
   "cell_type": "code",
   "execution_count": 10,
   "metadata": {},
   "outputs": [
    {
     "data": {
      "text/plain": [
       "'M'"
      ]
     },
     "execution_count": 10,
     "metadata": {},
     "output_type": "execute_result"
    }
   ],
   "source": [
    "next(iter(myName))"
   ]
  },
  {
   "cell_type": "markdown",
   "metadata": {},
   "source": [
    "- For loops *can* use an index\n",
    "    - Uses range function\n",
    "    - But it's less Pythonic\n",
    "    - range was considered harmful in Python 2.7 (its not in 3). Advanced topic. "
   ]
  },
  {
   "cell_type": "code",
   "execution_count": 15,
   "metadata": {},
   "outputs": [
    {
     "data": {
      "text/plain": [
       "[0, 1, 2, 3, 4, 5, 6, 7, 8, 9]"
      ]
     },
     "execution_count": 15,
     "metadata": {},
     "output_type": "execute_result"
    }
   ],
   "source": [
    "list(range(0,10))"
   ]
  },
  {
   "cell_type": "code",
   "execution_count": 13,
   "metadata": {},
   "outputs": [
    {
     "name": "stdout",
     "output_type": "stream",
     "text": [
      "Python\n",
      "R\n",
      "SQL\n",
      "Git\n"
     ]
    }
   ],
   "source": [
    "dataScienceTools = ['Python', 'R', 'SQL', 'Git']\n",
    "for i in range(len(dataScienceTools) ):\n",
    "    print(dataScienceTools[i])"
   ]
  },
  {
   "cell_type": "markdown",
   "metadata": {},
   "source": [
    "<h1>What is the enumerate function</h1>"
   ]
  },
  {
   "cell_type": "code",
   "execution_count": 16,
   "metadata": {},
   "outputs": [
    {
     "name": "stdout",
     "output_type": "stream",
     "text": [
      "0 Steve\n",
      "1 Rachel\n",
      "2 Michael\n",
      "3 Monica\n"
     ]
    }
   ],
   "source": [
    "friends = ('Steve', 'Rachel', 'Michael', 'Monica')\n",
    "for index, friend in enumerate(friends):\n",
    "    print(index,friend)"
   ]
  },
  {
   "cell_type": "code",
   "execution_count": 17,
   "metadata": {},
   "outputs": [
    {
     "name": "stdout",
     "output_type": "stream",
     "text": [
      "0 Python\n",
      "1 R\n",
      "2 SQL\n",
      "3 Git\n"
     ]
    }
   ],
   "source": [
    "dataScienceTools = ['Python', 'R', 'SQL', 'Git']\n",
    "for index, tool in enumerate(dataScienceTools):\n",
    "    print(index,tool)"
   ]
  },
  {
   "cell_type": "code",
   "execution_count": null,
   "metadata": {},
   "outputs": [],
   "source": []
  }
 ],
 "metadata": {
  "kernelspec": {
   "display_name": "Python 3",
   "language": "python",
   "name": "python3"
  },
  "language_info": {
   "codemirror_mode": {
    "name": "ipython",
    "version": 3
   },
   "file_extension": ".py",
   "mimetype": "text/x-python",
   "name": "python",
   "nbconvert_exporter": "python",
   "pygments_lexer": "ipython3",
   "version": "3.7.4"
  }
 },
 "nbformat": 4,
 "nbformat_minor": 2
}
