{
 "cells": [
  {
   "cell_type": "markdown",
   "metadata": {},
   "source": [
    "## Basics of Matplotlib\n",
    "\n",
    "### Installing Polars\n",
    "\n",
    "Before diving into examples, you need to install Polars. You can do this using pip:\n",
    "\n",
    "```pip install polars```"
   ]
  },
  {
   "cell_type": "markdown",
   "metadata": {},
   "source": [
    "### Creating a DataFrame\n",
    "\n",
    "Creating a DataFrame in Polars is straightforward. You can create a DataFrame from a dictionary, list of lists, or even from a CSV file."
   ]
  },
  {
   "cell_type": "code",
   "execution_count": 1,
   "metadata": {},
   "outputs": [
    {
     "name": "stdout",
     "output_type": "stream",
     "text": [
      "shape: (3, 3)\n",
      "┌───────┬─────┬────────┐\n",
      "│ Name  ┆ Age ┆ Gender │\n",
      "│ ---   ┆ --- ┆ ---    │\n",
      "│ str   ┆ i64 ┆ str    │\n",
      "╞═══════╪═════╪════════╡\n",
      "│ John  ┆ 25  ┆ Male   │\n",
      "│ Alice ┆ 30  ┆ Female │\n",
      "│ Bob   ┆ 28  ┆ Male   │\n",
      "└───────┴─────┴────────┘\n"
     ]
    }
   ],
   "source": [
    "import polars as pl\n",
    "\n",
    "# Use a dictionary to define the dataset\n",
    "# Why? Dictionaries ensure each column is correctly assigned its own type, avoiding type inference issues.\n",
    "data = {\n",
    "    \"Name\": [\"John\", \"Alice\", \"Bob\"],  # String values\n",
    "    \"Age\": [25, 30, 28],  # Integer values (ensures proper numerical operations)\n",
    "    \"Gender\": [\"Male\", \"Female\", \"Male\"]  # String values\n",
    "}\n",
    "\n",
    "# Create a DataFrame with an explicit schema\n",
    "# Why? Defining a schema prevents Polars from misinterpreting column types.\n",
    "df = pl.DataFrame(data, schema={\"Name\": pl.Utf8, \"Age\": pl.Int64, \"Gender\": pl.Utf8})\n",
    "\n",
    "# Basic data exploration (ensures the DataFrame was created correctly)\n",
    "print(df)"
   ]
  },
  {
   "cell_type": "markdown",
   "metadata": {},
   "source": [
    "### Basic DataFrame Operations\n",
    "\n",
    "Polars provides a rich set of functions for data manipulation. Here are some common operations:\n",
    "\n",
    "#### 1. Filtering and Aggregation\n",
    "To filter rows based on a condition, use the filter method:"
   ]
  },
  {
   "cell_type": "code",
   "execution_count": 2,
   "metadata": {},
   "outputs": [
    {
     "name": "stdout",
     "output_type": "stream",
     "text": [
      "shape: (5, 3)\n",
      "┌─────────┬─────┬────────┐\n",
      "│ Name    ┆ Age ┆ Gender │\n",
      "│ ---     ┆ --- ┆ ---    │\n",
      "│ str     ┆ i64 ┆ str    │\n",
      "╞═════════╪═════╪════════╡\n",
      "│ John    ┆ 25  ┆ Male   │\n",
      "│ Alice   ┆ 30  ┆ Female │\n",
      "│ Bob     ┆ 28  ┆ Male   │\n",
      "│ Charlie ┆ 22  ┆ Male   │\n",
      "│ Diana   ┆ 26  ┆ Female │\n",
      "└─────────┴─────┴────────┘\n",
      "shape: (2, 1)\n",
      "┌─────┐\n",
      "│ Age │\n",
      "│ --- │\n",
      "│ i64 │\n",
      "╞═════╡\n",
      "│ 25  │\n",
      "│ 28  │\n",
      "└─────┘\n",
      "shape: (1, 1)\n",
      "┌──────┐\n",
      "│ Age  │\n",
      "│ ---  │\n",
      "│ f64  │\n",
      "╞══════╡\n",
      "│ 26.5 │\n",
      "└──────┘\n"
     ]
    }
   ],
   "source": [
    "# Filtering and aggregation\n",
    "# Select only \"Age\" values where \"Gender\" is \"Male\"\n",
    "male_ages = df.filter(pl.col(\"Gender\") == \"Male\").select(\"Age\")\n",
    "\n",
    "# Create another DataFrame with consistent schema\n",
    "# Why? Ensuring schemas match across all DataFrames prevents concatenation errors.\n",
    "more_data = {\n",
    "    \"Name\": [\"Charlie\", \"Diana\"],  # String values\n",
    "    \"Age\": [22, 26],  # Integer values\n",
    "    \"Gender\": [\"Male\", \"Female\"]  # String values\n",
    "}\n",
    "\n",
    "# Explicit schema definition for the second DataFrame\n",
    "another_df = pl.DataFrame(more_data, schema={\"Name\": pl.Utf8, \"Age\": pl.Int64, \"Gender\": pl.Utf8})\n",
    "\n",
    "# Concatenating DataFrames with the same schema\n",
    "# Why? If schemas mismatch (e.g., one DataFrame has \"Age\" as Int64 and another as Utf8), Polars will throw an error.\n",
    "combined_df = pl.concat([df, another_df], how=\"vertical\")\n",
    "\n",
    "# Print the combined DataFrame to verify correctness\n",
    "print(combined_df)\n",
    "\n",
    "# Calculate the average age of males in the dataset\n",
    "# Why? Ensuring \"Age\" is an Int64 column allows us to perform numerical calculations correctly.\n",
    "average_male_age = male_ages.mean()\n",
    "\n",
    "# Display the filtered male ages and their average\n",
    "print(male_ages)\n",
    "print(average_male_age)"
   ]
  },
  {
   "cell_type": "markdown",
   "metadata": {},
   "source": [
    "#### 2. Grouping and Aggregation\n",
    "To group by a column and perform aggregation, use the groupby and agg methods:"
   ]
  },
  {
   "cell_type": "code",
   "execution_count": 3,
   "metadata": {},
   "outputs": [
    {
     "name": "stdout",
     "output_type": "stream",
     "text": [
      "shape: (2, 2)\n",
      "┌────────┬─────────────┐\n",
      "│ Gender ┆ Average Age │\n",
      "│ ---    ┆ ---         │\n",
      "│ str    ┆ f64         │\n",
      "╞════════╪═════════════╡\n",
      "│ Female ┆ 28.0        │\n",
      "│ Male   ┆ 25.0        │\n",
      "└────────┴─────────────┘\n"
     ]
    }
   ],
   "source": [
    "# Use `group_by()` instead of `groupby()`\n",
    "grouped_df = combined_df.group_by(\"Gender\").agg(\n",
    "    pl.col(\"Age\").mean().alias(\"Average Age\")\n",
    ")\n",
    "\n",
    "print(grouped_df)"
   ]
  },
  {
   "cell_type": "markdown",
   "metadata": {},
   "source": [
    "#### 3. Selecting Columns\n",
    "\n",
    "To select specific columns, you can use the select method:"
   ]
  },
  {
   "cell_type": "code",
   "execution_count": 4,
   "metadata": {},
   "outputs": [
    {
     "name": "stdout",
     "output_type": "stream",
     "text": [
      "shape: (3, 2)\n",
      "┌───────┬─────┐\n",
      "│ Name  ┆ Age │\n",
      "│ ---   ┆ --- │\n",
      "│ str   ┆ i64 │\n",
      "╞═══════╪═════╡\n",
      "│ John  ┆ 25  │\n",
      "│ Alice ┆ 30  │\n",
      "│ Bob   ┆ 28  │\n",
      "└───────┴─────┘\n"
     ]
    }
   ],
   "source": [
    "# Select the \"Name\" and \"Age\" columns\n",
    "df_selected = df.select([\"Name\", \"Age\"])\n",
    "print(df_selected)"
   ]
  },
  {
   "cell_type": "markdown",
   "metadata": {},
   "source": [
    "#### 5. Adding New Columns"
   ]
  },
  {
   "cell_type": "code",
   "execution_count": 5,
   "metadata": {},
   "outputs": [
    {
     "name": "stdout",
     "output_type": "stream",
     "text": [
      "shape: (3, 4)\n",
      "┌───────┬─────┬────────┬────────────────┐\n",
      "│ Name  ┆ Age ┆ Gender ┆ Age_in_5_years │\n",
      "│ ---   ┆ --- ┆ ---    ┆ ---            │\n",
      "│ str   ┆ i64 ┆ str    ┆ i64            │\n",
      "╞═══════╪═════╪════════╪════════════════╡\n",
      "│ John  ┆ 25  ┆ Male   ┆ 30             │\n",
      "│ Alice ┆ 30  ┆ Female ┆ 35             │\n",
      "│ Bob   ┆ 28  ┆ Male   ┆ 33             │\n",
      "└───────┴─────┴────────┴────────────────┘\n"
     ]
    }
   ],
   "source": [
    "df = df.with_columns((pl.col(\"Age\") + 5).alias(\"Age_in_5_years\"))\n",
    "\n",
    "print(df)\n"
   ]
  },
  {
   "cell_type": "markdown",
   "metadata": {},
   "source": [
    "#### 5. Sorting Data"
   ]
  },
  {
   "cell_type": "code",
   "execution_count": 6,
   "metadata": {},
   "outputs": [
    {
     "name": "stdout",
     "output_type": "stream",
     "text": [
      "shape: (3, 4)\n",
      "┌───────┬─────┬────────┬────────────────┐\n",
      "│ Name  ┆ Age ┆ Gender ┆ Age_in_5_years │\n",
      "│ ---   ┆ --- ┆ ---    ┆ ---            │\n",
      "│ str   ┆ i64 ┆ str    ┆ i64            │\n",
      "╞═══════╪═════╪════════╪════════════════╡\n",
      "│ Alice ┆ 30  ┆ Female ┆ 35             │\n",
      "│ Bob   ┆ 28  ┆ Male   ┆ 33             │\n",
      "│ John  ┆ 25  ┆ Male   ┆ 30             │\n",
      "└───────┴─────┴────────┴────────────────┘\n"
     ]
    }
   ],
   "source": [
    "# Sort by \"Age\" in descending order\n",
    "df_sorted = df.sort(\"Age\", descending=True)\n",
    "\n",
    "print(df_sorted)\n"
   ]
  },
  {
   "cell_type": "markdown",
   "metadata": {},
   "source": [
    "## Advanced Features: Parallel Processing and Lazy Evaluation\n",
    "Polars naturally provides parallel processing to expedite calculations and permits lazy evaluation, which may be useful for query plan optimization."
   ]
  },
  {
   "cell_type": "markdown",
   "metadata": {},
   "source": [
    "### Lazy Evaluation\n",
    "Lazy evaluation allows you to build a query plan without executing it immediately. This can lead to significant performance improvements."
   ]
  },
  {
   "cell_type": "code",
   "execution_count": 7,
   "metadata": {},
   "outputs": [
    {
     "name": "stdout",
     "output_type": "stream",
     "text": [
      "shape: (1, 1)\n",
      "┌──────┐\n",
      "│ Age  │\n",
      "│ ---  │\n",
      "│ f64  │\n",
      "╞══════╡\n",
      "│ 25.0 │\n",
      "└──────┘\n"
     ]
    }
   ],
   "source": [
    "# Lazy Evaluation\n",
    "lazy_df = combined_df.lazy()\n",
    "\n",
    "# Lazy filtering and aggregation\n",
    "lazy_male_ages = lazy_df.filter(pl.col(\"Gender\") == \"Male\").select(\"Age\")\n",
    "lazy_average_male_age = lazy_male_ages.mean()\n",
    "\n",
    "# Collect the results (execute the lazy computation)\n",
    "result = lazy_average_male_age.collect()\n",
    "print(result)"
   ]
  },
  {
   "cell_type": "markdown",
   "metadata": {},
   "source": [
    "## Integration with Other Libraries\n",
    "### Converting to Pandas"
   ]
  },
  {
   "cell_type": "code",
   "execution_count": 8,
   "metadata": {},
   "outputs": [
    {
     "name": "stdout",
     "output_type": "stream",
     "text": [
      "      Name  Age  Gender\n",
      "0     John   25    Male\n",
      "1    Alice   30  Female\n",
      "2      Bob   28    Male\n",
      "3  Charlie   22    Male\n",
      "4    Diana   26  Female\n"
     ]
    }
   ],
   "source": [
    "# Convert Polars DataFrame to Pandas DataFrame\n",
    "pandas_df = combined_df.to_pandas()\n",
    "print(pandas_df)"
   ]
  },
  {
   "cell_type": "markdown",
   "metadata": {},
   "source": [
    "### Converting from Pandas\n"
   ]
  },
  {
   "cell_type": "code",
   "execution_count": 9,
   "metadata": {},
   "outputs": [
    {
     "name": "stdout",
     "output_type": "stream",
     "text": [
      "shape: (2, 3)\n",
      "┌───────┬─────┬────────┐\n",
      "│ Name  ┆ Age ┆ Gender │\n",
      "│ ---   ┆ --- ┆ ---    │\n",
      "│ str   ┆ i64 ┆ str    │\n",
      "╞═══════╪═════╪════════╡\n",
      "│ Eve   ┆ 27  ┆ Female │\n",
      "│ Frank ┆ 35  ┆ Male   │\n",
      "└───────┴─────┴────────┘\n"
     ]
    }
   ],
   "source": [
    "import pandas as pd\n",
    "\n",
    "# Create a sample Pandas DataFrame\n",
    "pandas_data = pd.DataFrame({\n",
    "    \"Name\": [\"Eve\", \"Frank\"],\n",
    "    \"Age\": [27, 35],\n",
    "    \"Gender\": [\"Female\", \"Male\"]\n",
    "})\n",
    "\n",
    "# Convert Pandas DataFrame to Polars DataFrame\n",
    "polars_df_from_pandas = pl.from_pandas(pandas_data)\n",
    "print(polars_df_from_pandas)\n",
    "\n",
    "\n"
   ]
  },
  {
   "cell_type": "markdown",
   "metadata": {},
   "source": [
    "## Advantages and Disadvantages of Polars\n",
    "\n",
    "- Performance: The Polars library is renowned for its outstanding functionality. It is designed to quickly and effectively handle huge datasets, often surpassing other Python data manipulation frameworks. Polars make use of vectorized operations and multi-threading to speed up data processing and calculations.\n",
    "- Expressive Syntax: Complex data transformations and searches are simple to create with Polars because to its succinct and expressive syntax. With the help of the library's chainable and user-friendly API, data scientists may define their data manipulation activities in a comprehensible and unambiguous way.\n",
    "- Distributed Computing: Polars can process data in a distributed fashion over many nodes because to its built-in support for distributed computing. Its ability to handle huge datasets that would not fit in a single machine's RAM makes it a good match for big data analytics.\n",
    "Memory Efficient: Memory Efficient Columnar data format lowers memory overhead, making Polars memory-efficient by design. This format optimizes memory utilization and enables quicker calculations by ensuring that only the data needed for a certain operation is loaded into memory.\n",
    "- Comprehensive Functionality: Aggregation, filtering, sorting, combining, and many more data manipulation and analysis procedures are available with Polars. It is a complete tool for data science activities since it can also handle missing data, data encoding, and data typing.\n",
    "\n",
    "## Disadvantages of Polars\n",
    "- Learning Curve: Although Polars provides a clear and expressive syntax, switching from Pandas to Polars may need some learning. Users of the two libraries will need to adjust to new ways of thinking about and dealing with data because of differences in some of the ideas and features.\n",
    "- Community and Ecosystem: Polars has a smaller ecology and community than larger libraries like Pandas. This implies that the amount of online resources, tutorials, and community assistance is limited, and there are fewer third-party integrations. Nonetheless, the Polars community is expanding, and the data science world is beginning to recognize the library."
   ]
  },
  {
   "cell_type": "markdown",
   "metadata": {},
   "source": []
  }
 ],
 "metadata": {
  "anaconda-cloud": {},
  "kernelspec": {
   "display_name": "Python 3 (ipykernel)",
   "language": "python",
   "name": "python3"
  },
  "language_info": {
   "codemirror_mode": {
    "name": "ipython",
    "version": 3
   },
   "file_extension": ".py",
   "mimetype": "text/x-python",
   "name": "python",
   "nbconvert_exporter": "python",
   "pygments_lexer": "ipython3",
   "version": "3.10.13"
  }
 },
 "nbformat": 4,
 "nbformat_minor": 4
}
